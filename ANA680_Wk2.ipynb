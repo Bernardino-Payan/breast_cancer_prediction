{
 "cells": [
  {
   "cell_type": "code",
   "execution_count": 6,
   "id": "56d70546-f990-4c40-adef-bc966e55c926",
   "metadata": {},
   "outputs": [
    {
     "data": {
      "text/plain": [
       "['models/scaler.pkl']"
      ]
     },
     "execution_count": 6,
     "metadata": {},
     "output_type": "execute_result"
    }
   ],
   "source": [
    "import pandas as pd\n",
    "import numpy as np\n",
    "import joblib\n",
    "from ucimlrepo import fetch_ucirepo\n",
    "from sklearn.model_selection import train_test_split\n",
    "from sklearn.preprocessing import StandardScaler\n",
    "from sklearn.neighbors import KNeighborsClassifier\n",
    "from sklearn.metrics import accuracy_score, confusion_matrix\n",
    "from sklearn.impute import SimpleImputer\n",
    "\n",
    "# Fetch dataset\n",
    "breast_cancer_wisconsin_original = fetch_ucirepo(id=15)\n",
    "X = breast_cancer_wisconsin_original.data.features\n",
    "y = breast_cancer_wisconsin_original.data.targets\n",
    "\n",
    "# Convert y to a Pandas Series and replace values (2 → 0, 4 → 1)\n",
    "y = pd.Series(y.values.ravel())  # Flatten the array\n",
    "y = y.replace({2: 0, 4: 1})  # Convert labels\n",
    "\n",
    "# Handle Missing Values: Replace NaNs with Column Mean\n",
    "imputer = SimpleImputer(strategy=\"mean\")\n",
    "X = pd.DataFrame(imputer.fit_transform(X), columns=X.columns)\n",
    "\n",
    "# Split Data\n",
    "X_train, X_test, y_train, y_test = train_test_split(X, y, test_size=0.25, random_state=42)\n",
    "\n",
    "# Feature Scaling\n",
    "scaler = StandardScaler()\n",
    "X_train = scaler.fit_transform(X_train)\n",
    "X_test = scaler.transform(X_test)\n",
    "\n",
    "# Train Model\n",
    "model = KNeighborsClassifier(n_neighbors=5)\n",
    "model.fit(X_train, y_train)\n",
    "\n",
    "# Ensure 'models/' folder exists\n",
    "os.makedirs(\"models\", exist_ok=True)\n",
    "\n",
    "# Save Model and Scaler\n",
    "joblib.dump(model, \"models/breast_cancer_knn.pkl\")\n",
    "joblib.dump(scaler, \"models/scaler.pkl\")"
   ]
  },
  {
   "cell_type": "code",
   "execution_count": null,
   "id": "3c24387c-e358-49f8-968e-2179139d42d2",
   "metadata": {},
   "outputs": [],
   "source": []
  }
 ],
 "metadata": {
  "kernelspec": {
   "display_name": "Python 3 (ipykernel)",
   "language": "python",
   "name": "python3"
  },
  "language_info": {
   "codemirror_mode": {
    "name": "ipython",
    "version": 3
   },
   "file_extension": ".py",
   "mimetype": "text/x-python",
   "name": "python",
   "nbconvert_exporter": "python",
   "pygments_lexer": "ipython3",
   "version": "3.11.7"
  }
 },
 "nbformat": 4,
 "nbformat_minor": 5
}
